{
  "nbformat": 4,
  "nbformat_minor": 0,
  "metadata": {
    "colab": {
      "provenance": [],
      "authorship_tag": "ABX9TyP3Y6s5lbjdL/9cTw1o8oRZ",
      "include_colab_link": true
    },
    "kernelspec": {
      "name": "python3",
      "display_name": "Python 3"
    },
    "language_info": {
      "name": "python"
    }
  },
  "cells": [
    {
      "cell_type": "markdown",
      "metadata": {
        "id": "view-in-github",
        "colab_type": "text"
      },
      "source": [
        "<a href=\"https://colab.research.google.com/github/WhizpyH/Neural-Networks/blob/main/Assignment_2_Neural_Network_Analysis.ipynb\" target=\"_parent\"><img src=\"https://colab.research.google.com/assets/colab-badge.svg\" alt=\"Open In Colab\"/></a>"
      ]
    },
    {
      "cell_type": "code",
      "execution_count": 5,
      "metadata": {
        "id": "MSmKlDdYLesR"
      },
      "outputs": [],
      "source": [
        "#####################################################################################################################\n",
        "#   Assignment 2: Neural Network Analysis\n",
        "#   This is a starter code in Python 3.6 for a neural network.\n",
        "#   You need to have numpy and pandas installed before running this code.\n",
        "#   You need to complete all TODO marked sections\n",
        "#   You are free to modify this code in any way you want, but need to mention it\n",
        "#       in the README file.\n",
        "#\n",
        "#####################################################################################################################\n",
        "\n",
        "\n",
        "import numpy as np\n",
        "import pandas as pd\n",
        "import matplotlib.pyplot as plt\n",
        "import tensorflow as tf\n",
        "from sklearn.model_selection import train_test_split"
      ]
    },
    {
      "cell_type": "code",
      "source": [
        "class NeuralNet:\n",
        "    def __init__(self, dataFile, header=True):\n",
        "        self.raw_input = pd.read_csv(dataFile)\n",
        "\n",
        "\n",
        "\n",
        "\n",
        "    # Pre-processing the dataset, which would include\n",
        "    # standardization, normalization,\n",
        "    # categorical to numerical, etc\n",
        "    def preprocess(self):\n",
        "        self.processed_data = self.raw_input\n",
        "\n",
        "        # No null variables\n",
        "        self.processed_data = self.processed_data.dropna()\n",
        "\n",
        "        # Removing any redundant rows\n",
        "        self.processed_data = self.processed_data.drop_duplicates()\n",
        "\n",
        "        # Categorical to numerical\n",
        "        for column in self.processed_data.columns:\n",
        "            if self.processed_data[column].dtype == 'object':\n",
        "                self.processed_data[column] = pd.Categorical(self.processed_data[column]).codes\n",
        "\n",
        "        # Standardization\n",
        "        for column in self.processed_data.columns:\n",
        "            if self.processed_data[column].dtype in [np.float64, np.int64]:\n",
        "                mean = self.processed_data[column].mean()\n",
        "                std = self.processed_data[column].std()\n",
        "                self.processed_data[column] = (self.processed_data[column] - mean) / std\n",
        "\n",
        "        # Normalization\n",
        "        for column in self.processed_data.columns:\n",
        "            if self.processed_data[column].dtype in [np.float64, np.int64]:\n",
        "                min_val = self.processed_data[column].min()\n",
        "                max_val = self.processed_data[column].max()\n",
        "                self.processed_data[column] = (self.processed_data[column] - min_val) / (max_val - min_val)\n",
        "\n",
        "        return 0\n",
        "\n",
        "    # Train and evaluate models for all combinations of parameters\n",
        "    # specified in the init method. Obtain following outputs:\n",
        "    #   1. Training Accuracy and Error (Loss) for every model\n",
        "    #   2. Test Accuracy and Error (Loss) for every model\n",
        "    #   3. History Curve (Plot of Accuracy against training steps) for all\n",
        "    #       the models in a single plot. The plot should be color coded i.e.\n",
        "    #       different color for each model\n",
        "\n",
        "    def train_evaluate(self):\n",
        "        ncols = len(self.processed_data.columns)\n",
        "        nrows = len(self.processed_data.index)\n",
        "        X = self.processed_data.iloc[:, 0:(ncols - 1)]\n",
        "        y = self.processed_data.iloc[:, (ncols-1)]\n",
        "        X_train, X_test, y_train, y_test = train_test_split(\n",
        "            X, y)\n",
        "\n",
        "        # Below are the hyperparameters that you need to use for model evaluation\n",
        "        # You can assume any fixed number of neurons for each hidden layer.\n",
        "\n",
        "        activations = ['logistic', 'tanh', 'relu']\n",
        "        learning_rate = [0.01, 0.1]\n",
        "        max_iterations = [100, 200] # also known as epochs\n",
        "        num_hidden_layers = [2, 3]\n",
        "\n",
        "        # A loop to go through each activation\n",
        "        for h in num_hidden_layers:\n",
        "            for a in activations:\n",
        "                # 2 Hidden layers\n",
        "                if h == 2:\n",
        "                    model = tf.keras.Sequential([\n",
        "                        keras.Input(shape=(X_train.shape[1],)),\n",
        "                        tf.keras.layers.Dense(3000, activation=a),\n",
        "                        tf.keras.layers.Dense(1000, activation=a),\n",
        "                        tf.keras.layers.Dense(1, activation='sigmoid')\n",
        "                    ])\n",
        "                # 3 Hidden layers\n",
        "                else:\n",
        "                    model = tf.keras.Sequential([\n",
        "                        keras.Input(shape=(X_train.shape[1],)),\n",
        "                        tf.keras.layers.Dense(3000, activation=a),\n",
        "                        tf.keras.layers.Dense(1000, activation=a),\n",
        "                        tf.keras.layers.Dense(300, activation=a),\n",
        "                        tf.keras.layers.Dense(1, activation='sigmoid')\n",
        "                    ])\n",
        "                for lr in learning_rate:\n",
        "                    model.compile(optimizer=tf.keras.optimizers.Adam(learning_rate=lr),\n",
        "                      loss='binary_crossentropy',\n",
        "                      metrics=['accuracy'])\n",
        "\n",
        "                    for i in max_iterations:\n",
        "                        history = model.fit(X_train, y_train, epochs=i)\n",
        "                        test_loss, test_acc = model.evaluate(X_test, y_test)\n",
        "\n",
        "                        # Plot the Training Accuracy and Error (Loss) for this model\n",
        "                        plt.plot(history.history['accuracy'])\n",
        "                        plt.title('Training Accuracy')\n",
        "                        plt.ylabel('Accuracy')\n",
        "                        plt.xlabel('Epoch')\n",
        "                        plt.show()\n",
        "\n",
        "                        # Test Accuracy and Error (Loss) for this model\n",
        "                        test_loss, test_acc = model.evaluate(X_test, y_test)\n",
        "                        print('Test accuracy:', test_acc)\n",
        "\n",
        "                        # Test Accuracy and Error (Loss) for this model in a plot\n",
        "                        plt.plot(history.history['loss'])\n",
        "                        plt.title('Training Error')\n",
        "                        plt.ylabel('Error')\n",
        "                        plt.xlabel('Epoch')\n",
        "                        plt.show()\n",
        "\n",
        "                        # History Curve (Plot of Accuracy against training steps) for the model in a single plot\n",
        "                        plt.plot(history.history['accuracy'])\n",
        "                        plt.title('History Curve')\n",
        "                        plt.ylabel('Accuracy')\n",
        "                        plt.xlabel('Epoch')\n",
        "                        plt.show()\n",
        "\n",
        "\n",
        "        # Table of model hyperparameters, training and test accuracies, and training and testing errors\n",
        "        table = pd.DataFrame(columns=['Activation', 'Learning Rate', 'Max Iterations', 'Num Hidden Layers', 'Training Accuracy', 'Training Error', 'Test Accuracy', 'Test Error'])\n",
        "        print(table)\n",
        "\n",
        "        return 0"
      ],
      "metadata": {
        "id": "1-P7T61QNys7"
      },
      "execution_count": 16,
      "outputs": []
    },
    {
      "cell_type": "code",
      "source": [
        "if __name__ == \"__main__\":\n",
        "    neural_network = NeuralNet(\"data.csv\") # put in path to your file\n",
        "    neural_network.preprocess()\n",
        "    neural_network.train_evaluate()"
      ],
      "metadata": {
        "colab": {
          "base_uri": "https://localhost:8080/",
          "height": 351
        },
        "id": "OvcIXCdp8e-4",
        "outputId": "da177fa6-0ab6-4650-c21f-76e864366364"
      },
      "execution_count": 8,
      "outputs": [
        {
          "output_type": "error",
          "ename": "FileNotFoundError",
          "evalue": "[Errno 2] No such file or directory: 'data.csv'",
          "traceback": [
            "\u001b[0;31m---------------------------------------------------------------------------\u001b[0m",
            "\u001b[0;31mFileNotFoundError\u001b[0m                         Traceback (most recent call last)",
            "\u001b[0;32m/tmp/ipython-input-1637890201.py\u001b[0m in \u001b[0;36m<cell line: 0>\u001b[0;34m()\u001b[0m\n\u001b[1;32m      1\u001b[0m \u001b[0;32mif\u001b[0m \u001b[0m__name__\u001b[0m \u001b[0;34m==\u001b[0m \u001b[0;34m\"__main__\"\u001b[0m\u001b[0;34m:\u001b[0m\u001b[0;34m\u001b[0m\u001b[0;34m\u001b[0m\u001b[0m\n\u001b[0;32m----> 2\u001b[0;31m     \u001b[0mneural_network\u001b[0m \u001b[0;34m=\u001b[0m \u001b[0mNeuralNet\u001b[0m\u001b[0;34m(\u001b[0m\u001b[0;34m\"data.csv\"\u001b[0m\u001b[0;34m)\u001b[0m \u001b[0;31m# put in path to your file\u001b[0m\u001b[0;34m\u001b[0m\u001b[0;34m\u001b[0m\u001b[0m\n\u001b[0m\u001b[1;32m      3\u001b[0m     \u001b[0mneural_network\u001b[0m\u001b[0;34m.\u001b[0m\u001b[0mpreprocess\u001b[0m\u001b[0;34m(\u001b[0m\u001b[0;34m)\u001b[0m\u001b[0;34m\u001b[0m\u001b[0;34m\u001b[0m\u001b[0m\n\u001b[1;32m      4\u001b[0m     \u001b[0mneural_network\u001b[0m\u001b[0;34m.\u001b[0m\u001b[0mtrain_evaluate\u001b[0m\u001b[0;34m(\u001b[0m\u001b[0;34m)\u001b[0m\u001b[0;34m\u001b[0m\u001b[0;34m\u001b[0m\u001b[0m\n",
            "\u001b[0;32m/tmp/ipython-input-2590624971.py\u001b[0m in \u001b[0;36m__init__\u001b[0;34m(self, dataFile, header)\u001b[0m\n\u001b[1;32m      1\u001b[0m \u001b[0;32mclass\u001b[0m \u001b[0mNeuralNet\u001b[0m\u001b[0;34m:\u001b[0m\u001b[0;34m\u001b[0m\u001b[0;34m\u001b[0m\u001b[0m\n\u001b[1;32m      2\u001b[0m     \u001b[0;32mdef\u001b[0m \u001b[0m__init__\u001b[0m\u001b[0;34m(\u001b[0m\u001b[0mself\u001b[0m\u001b[0;34m,\u001b[0m \u001b[0mdataFile\u001b[0m\u001b[0;34m,\u001b[0m \u001b[0mheader\u001b[0m\u001b[0;34m=\u001b[0m\u001b[0;32mTrue\u001b[0m\u001b[0;34m)\u001b[0m\u001b[0;34m:\u001b[0m\u001b[0;34m\u001b[0m\u001b[0;34m\u001b[0m\u001b[0m\n\u001b[0;32m----> 3\u001b[0;31m         \u001b[0mself\u001b[0m\u001b[0;34m.\u001b[0m\u001b[0mraw_input\u001b[0m \u001b[0;34m=\u001b[0m \u001b[0mpd\u001b[0m\u001b[0;34m.\u001b[0m\u001b[0mread_csv\u001b[0m\u001b[0;34m(\u001b[0m\u001b[0mdataFile\u001b[0m\u001b[0;34m)\u001b[0m\u001b[0;34m\u001b[0m\u001b[0;34m\u001b[0m\u001b[0m\n\u001b[0m\u001b[1;32m      4\u001b[0m \u001b[0;34m\u001b[0m\u001b[0m\n\u001b[1;32m      5\u001b[0m \u001b[0;34m\u001b[0m\u001b[0m\n",
            "\u001b[0;32m/usr/local/lib/python3.12/dist-packages/pandas/io/parsers/readers.py\u001b[0m in \u001b[0;36mread_csv\u001b[0;34m(filepath_or_buffer, sep, delimiter, header, names, index_col, usecols, dtype, engine, converters, true_values, false_values, skipinitialspace, skiprows, skipfooter, nrows, na_values, keep_default_na, na_filter, verbose, skip_blank_lines, parse_dates, infer_datetime_format, keep_date_col, date_parser, date_format, dayfirst, cache_dates, iterator, chunksize, compression, thousands, decimal, lineterminator, quotechar, quoting, doublequote, escapechar, comment, encoding, encoding_errors, dialect, on_bad_lines, delim_whitespace, low_memory, memory_map, float_precision, storage_options, dtype_backend)\u001b[0m\n\u001b[1;32m   1024\u001b[0m     \u001b[0mkwds\u001b[0m\u001b[0;34m.\u001b[0m\u001b[0mupdate\u001b[0m\u001b[0;34m(\u001b[0m\u001b[0mkwds_defaults\u001b[0m\u001b[0;34m)\u001b[0m\u001b[0;34m\u001b[0m\u001b[0;34m\u001b[0m\u001b[0m\n\u001b[1;32m   1025\u001b[0m \u001b[0;34m\u001b[0m\u001b[0m\n\u001b[0;32m-> 1026\u001b[0;31m     \u001b[0;32mreturn\u001b[0m \u001b[0m_read\u001b[0m\u001b[0;34m(\u001b[0m\u001b[0mfilepath_or_buffer\u001b[0m\u001b[0;34m,\u001b[0m \u001b[0mkwds\u001b[0m\u001b[0;34m)\u001b[0m\u001b[0;34m\u001b[0m\u001b[0;34m\u001b[0m\u001b[0m\n\u001b[0m\u001b[1;32m   1027\u001b[0m \u001b[0;34m\u001b[0m\u001b[0m\n\u001b[1;32m   1028\u001b[0m \u001b[0;34m\u001b[0m\u001b[0m\n",
            "\u001b[0;32m/usr/local/lib/python3.12/dist-packages/pandas/io/parsers/readers.py\u001b[0m in \u001b[0;36m_read\u001b[0;34m(filepath_or_buffer, kwds)\u001b[0m\n\u001b[1;32m    618\u001b[0m \u001b[0;34m\u001b[0m\u001b[0m\n\u001b[1;32m    619\u001b[0m     \u001b[0;31m# Create the parser.\u001b[0m\u001b[0;34m\u001b[0m\u001b[0;34m\u001b[0m\u001b[0m\n\u001b[0;32m--> 620\u001b[0;31m     \u001b[0mparser\u001b[0m \u001b[0;34m=\u001b[0m \u001b[0mTextFileReader\u001b[0m\u001b[0;34m(\u001b[0m\u001b[0mfilepath_or_buffer\u001b[0m\u001b[0;34m,\u001b[0m \u001b[0;34m**\u001b[0m\u001b[0mkwds\u001b[0m\u001b[0;34m)\u001b[0m\u001b[0;34m\u001b[0m\u001b[0;34m\u001b[0m\u001b[0m\n\u001b[0m\u001b[1;32m    621\u001b[0m \u001b[0;34m\u001b[0m\u001b[0m\n\u001b[1;32m    622\u001b[0m     \u001b[0;32mif\u001b[0m \u001b[0mchunksize\u001b[0m \u001b[0;32mor\u001b[0m \u001b[0miterator\u001b[0m\u001b[0;34m:\u001b[0m\u001b[0;34m\u001b[0m\u001b[0;34m\u001b[0m\u001b[0m\n",
            "\u001b[0;32m/usr/local/lib/python3.12/dist-packages/pandas/io/parsers/readers.py\u001b[0m in \u001b[0;36m__init__\u001b[0;34m(self, f, engine, **kwds)\u001b[0m\n\u001b[1;32m   1618\u001b[0m \u001b[0;34m\u001b[0m\u001b[0m\n\u001b[1;32m   1619\u001b[0m         \u001b[0mself\u001b[0m\u001b[0;34m.\u001b[0m\u001b[0mhandles\u001b[0m\u001b[0;34m:\u001b[0m \u001b[0mIOHandles\u001b[0m \u001b[0;34m|\u001b[0m \u001b[0;32mNone\u001b[0m \u001b[0;34m=\u001b[0m \u001b[0;32mNone\u001b[0m\u001b[0;34m\u001b[0m\u001b[0;34m\u001b[0m\u001b[0m\n\u001b[0;32m-> 1620\u001b[0;31m         \u001b[0mself\u001b[0m\u001b[0;34m.\u001b[0m\u001b[0m_engine\u001b[0m \u001b[0;34m=\u001b[0m \u001b[0mself\u001b[0m\u001b[0;34m.\u001b[0m\u001b[0m_make_engine\u001b[0m\u001b[0;34m(\u001b[0m\u001b[0mf\u001b[0m\u001b[0;34m,\u001b[0m \u001b[0mself\u001b[0m\u001b[0;34m.\u001b[0m\u001b[0mengine\u001b[0m\u001b[0;34m)\u001b[0m\u001b[0;34m\u001b[0m\u001b[0;34m\u001b[0m\u001b[0m\n\u001b[0m\u001b[1;32m   1621\u001b[0m \u001b[0;34m\u001b[0m\u001b[0m\n\u001b[1;32m   1622\u001b[0m     \u001b[0;32mdef\u001b[0m \u001b[0mclose\u001b[0m\u001b[0;34m(\u001b[0m\u001b[0mself\u001b[0m\u001b[0;34m)\u001b[0m \u001b[0;34m->\u001b[0m \u001b[0;32mNone\u001b[0m\u001b[0;34m:\u001b[0m\u001b[0;34m\u001b[0m\u001b[0;34m\u001b[0m\u001b[0m\n",
            "\u001b[0;32m/usr/local/lib/python3.12/dist-packages/pandas/io/parsers/readers.py\u001b[0m in \u001b[0;36m_make_engine\u001b[0;34m(self, f, engine)\u001b[0m\n\u001b[1;32m   1878\u001b[0m                 \u001b[0;32mif\u001b[0m \u001b[0;34m\"b\"\u001b[0m \u001b[0;32mnot\u001b[0m \u001b[0;32min\u001b[0m \u001b[0mmode\u001b[0m\u001b[0;34m:\u001b[0m\u001b[0;34m\u001b[0m\u001b[0;34m\u001b[0m\u001b[0m\n\u001b[1;32m   1879\u001b[0m                     \u001b[0mmode\u001b[0m \u001b[0;34m+=\u001b[0m \u001b[0;34m\"b\"\u001b[0m\u001b[0;34m\u001b[0m\u001b[0;34m\u001b[0m\u001b[0m\n\u001b[0;32m-> 1880\u001b[0;31m             self.handles = get_handle(\n\u001b[0m\u001b[1;32m   1881\u001b[0m                 \u001b[0mf\u001b[0m\u001b[0;34m,\u001b[0m\u001b[0;34m\u001b[0m\u001b[0;34m\u001b[0m\u001b[0m\n\u001b[1;32m   1882\u001b[0m                 \u001b[0mmode\u001b[0m\u001b[0;34m,\u001b[0m\u001b[0;34m\u001b[0m\u001b[0;34m\u001b[0m\u001b[0m\n",
            "\u001b[0;32m/usr/local/lib/python3.12/dist-packages/pandas/io/common.py\u001b[0m in \u001b[0;36mget_handle\u001b[0;34m(path_or_buf, mode, encoding, compression, memory_map, is_text, errors, storage_options)\u001b[0m\n\u001b[1;32m    871\u001b[0m         \u001b[0;32mif\u001b[0m \u001b[0mioargs\u001b[0m\u001b[0;34m.\u001b[0m\u001b[0mencoding\u001b[0m \u001b[0;32mand\u001b[0m \u001b[0;34m\"b\"\u001b[0m \u001b[0;32mnot\u001b[0m \u001b[0;32min\u001b[0m \u001b[0mioargs\u001b[0m\u001b[0;34m.\u001b[0m\u001b[0mmode\u001b[0m\u001b[0;34m:\u001b[0m\u001b[0;34m\u001b[0m\u001b[0;34m\u001b[0m\u001b[0m\n\u001b[1;32m    872\u001b[0m             \u001b[0;31m# Encoding\u001b[0m\u001b[0;34m\u001b[0m\u001b[0;34m\u001b[0m\u001b[0m\n\u001b[0;32m--> 873\u001b[0;31m             handle = open(\n\u001b[0m\u001b[1;32m    874\u001b[0m                 \u001b[0mhandle\u001b[0m\u001b[0;34m,\u001b[0m\u001b[0;34m\u001b[0m\u001b[0;34m\u001b[0m\u001b[0m\n\u001b[1;32m    875\u001b[0m                 \u001b[0mioargs\u001b[0m\u001b[0;34m.\u001b[0m\u001b[0mmode\u001b[0m\u001b[0;34m,\u001b[0m\u001b[0;34m\u001b[0m\u001b[0;34m\u001b[0m\u001b[0m\n",
            "\u001b[0;31mFileNotFoundError\u001b[0m: [Errno 2] No such file or directory: 'data.csv'"
          ]
        }
      ]
    }
  ]
}